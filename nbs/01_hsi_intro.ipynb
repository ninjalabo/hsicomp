{
 "cells": [
  {
   "cell_type": "code",
   "execution_count": null,
   "id": "66e35275-19b1-4112-a8ec-e20c03301664",
   "metadata": {},
   "outputs": [],
   "source": [
    "## HYPER SPECTRAL IMAGING "
   ]
  }
 ],
 "metadata": {
  "kernelspec": {
   "display_name": "python3",
   "language": "python",
   "name": "python3"
  }
 },
 "nbformat": 4,
 "nbformat_minor": 5
}
