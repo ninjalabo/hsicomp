{
 "cells": [
  {
   "cell_type": "code",
   "execution_count": null,
   "id": "66e35275-19b1-4112-a8ec-e20c03301664",
   "metadata": {},
   "outputs": [],
   "source": []
  },
  {
   "cell_type": "markdown",
   "metadata": {},
   "source": [
    "# HYPER SPECTRAL IMAGING \n",
    "\n",
    "Hyperspectral imaging (HSI) is an advanced imaging technique that captures a wide spectrum of light beyond basic colors (RGB: red, green, blue) that the human eye can see. Unlike standard cameras, which record only three bands of light, hyperspectral cameras can capture hundreds of bands of light, covering a broader spectrum, often from ultraviolet (UV) to infrared (IR). Each band represents a specific wavelength range, giving detailed information about the spectral properties of the scene or object.\n"
   ]
  }
 ],
 "metadata": {
  "kernelspec": {
   "display_name": "python3",
   "language": "python",
   "name": "python3"
  }
 },
 "nbformat": 4,
 "nbformat_minor": 5
}
