{
 "cells": [
  {
   "cell_type": "markdown",
   "id": "621a7246-9a7b-43e9-989e-83a20845ba70",
   "metadata": {},
   "source": [
    "# Hyperspectral Object Tracking Challenge 2024 [5]\n",
    "> The following is a set of baseline results from different methods. These results were obtained without using the training set. Only the first frame of the each testing sequence was used to estimate key parameters if needed. Please refer to [1] for details. Please refer to the contest page for related codes. https://www.hsitracking.com/result/"
   ]
  },
  {
   "cell_type": "code",
   "execution_count": null,
   "id": "92ab07b0-90b7-4769-9238-1e7773abcf80",
   "metadata": {},
   "outputs": [],
   "source": []
  }
 ],
 "metadata": {
  "kernelspec": {
   "display_name": "python3",
   "language": "python",
   "name": "python3"
  }
 },
 "nbformat": 4,
 "nbformat_minor": 5
}
