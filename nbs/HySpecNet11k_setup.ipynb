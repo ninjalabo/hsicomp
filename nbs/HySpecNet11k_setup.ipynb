{
 "cells": [
  {
   "cell_type": "markdown",
   "metadata": {},
   "source": [
    "# HySpecNet-11k-Env_setup\n",
    "\n",
    "> About HySpecNet-11k\n",
    "The HySpecNet-11k dataset is constructed by the Remote Sensing Image Analysis (RSiM) group at TU Berlin and the Big Data Analytics in Earth Observation group at the Berlin Institute for the Foundations of Learning and Data (BIFOLD).\n",
    "https://hyspecnet.rsim.berlin/"
   ]
  },
  {
   "cell_type": "code",
   "execution_count": null,
   "metadata": {},
   "outputs": [],
   "source": [
    "#| default_exp hyspecnet11k.setup"
   ]
  },
  {
   "cell_type": "code",
   "execution_count": null,
   "metadata": {},
   "outputs": [],
   "source": [
    "#| hide\n",
    "from nbdev.showdoc import *"
   ]
  },
  {
   "cell_type": "markdown",
   "metadata": {},
   "source": [
    "## Repository Setup Reminders:\n",
    "    Re-clone if needed after a forced reset:\n",
    "    git clone https://git.tu-berlin.de/rsim/hsi-compression.git\n",
    "    Before pushing changes:\n",
    "    git remote update\n",
    "    git rebase origin/main\n",
    "    nbdev_prepare\n",
    "\n",
    "## VM and Jupyter Notebook Setup:\n",
    "    Connect to the virtual machine:\n",
    "    ssh root@VM_IP.Address\n",
    "\n",
    "## Tunnel the Jupyter Notebook:\n",
    "    ssh -i ~/.ssh/public_key -L 7777:localhost:8888 root@VM_IP_address\n",
    "    jupyter notebook --no-browser --port=8888 --ip=0.0.0.0 --allow-root\n",
    "    Access the notebook at localhost:7777."
   ]
  },
  {
   "cell_type": "code",
   "execution_count": null,
   "metadata": {},
   "outputs": [],
   "source": [
    "#| export\n",
    "def foo(): pass"
   ]
  },
  {
   "cell_type": "code",
   "execution_count": null,
   "metadata": {},
   "outputs": [],
   "source": [
    "#| hide\n",
    "import nbdev; nbdev.nbdev_export()"
   ]
  },
  {
   "cell_type": "code",
   "execution_count": null,
   "metadata": {},
   "outputs": [],
   "source": []
  }
 ],
 "metadata": {
  "kernelspec": {
   "display_name": "python3",
   "language": "python",
   "name": "python3"
  }
 },
 "nbformat": 4,
 "nbformat_minor": 4
}
