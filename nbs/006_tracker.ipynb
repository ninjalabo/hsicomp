{
 "cells": [
  {
   "cell_type": "markdown",
   "id": "18345028-b66b-43ce-9b47-44c05769476c",
   "metadata": {},
   "source": [
    "# Hyperspectral Object Tracking Challenge 2024 [6]\n",
    "> The following is a set of baseline results from different methods. These results were obtained without using the training set. Only the first frame of the each testing sequence was used to estimate key parameters if needed. Please refer to [1] for details. Please refer to the contest page for related codes. https://www.hsitracking.com/result/"
   ]
  },
  {
   "cell_type": "code",
   "execution_count": null,
   "id": "c5c5b4a0-5e49-4258-8a3e-735364693600",
   "metadata": {},
   "outputs": [],
   "source": []
  }
 ],
 "metadata": {
  "kernelspec": {
   "display_name": "python3",
   "language": "python",
   "name": "python3"
  }
 },
 "nbformat": 4,
 "nbformat_minor": 5
}
