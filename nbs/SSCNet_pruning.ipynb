{
 "cells": [
  {
   "cell_type": "code",
   "execution_count": 1,
   "metadata": {},
   "outputs": [],
   "source": [
    "#| default_exp SSCNetPruningCompression"
   ]
  },
  {
   "cell_type": "markdown",
   "metadata": {},
   "source": [
    "# SSCNet Pruning Compression\n",
    "\n",
    "> - In this we implement the pruning method from fasterai.\n",
    "> - The documentation are available here https://github.com/nathanhubens/fasterai.git"
   ]
  },
  {
   "cell_type": "code",
   "execution_count": 4,
   "metadata": {},
   "outputs": [],
   "source": [
    "#| hide\n",
    "from nbdev.showdoc import *"
   ]
  },
  {
   "cell_type": "markdown",
   "metadata": {},
   "source": [
    "### Exporting the necessary libraries."
   ]
  },
  {
   "cell_type": "markdown",
   "metadata": {},
   "source": [
    "Pre-check installation of the necessary libraries"
   ]
  },
  {
   "cell_type": "code",
   "execution_count": 3,
   "metadata": {},
   "outputs": [
    {
     "data": {
      "text/plain": [
       "'\\n# Pre-installation script for required libraries\\n\\nimport subprocess\\nimport sys\\n\\n# List of required libraries\\nrequired_libraries = [\\n    \"os\", \"sys\", \"torch\", \"time\", \"numpy\", \"pandas\", \"fastai\", \"pathlib\"\\n]\\n\\n# Function to check and install missing libraries\\ndef check_and_install_libraries(libraries):\\n    for lib in libraries:\\n        try:\\n            # Check if the library can be imported\\n            __import__(lib)\\n        except ImportError:\\n            # Special case for libraries with different pip names\\n            lib_pip = lib\\n            if lib == \"torch\":\\n                lib_pip = \"torch torchvision torchaudio --index-url https://download.pytorch.org/whl/cpu\"\\n            elif lib == \"fastai\":\\n                lib_pip = \"fastai\"\\n\\n            print(f\"{lib} not found. Installing...\")\\n            try:\\n                subprocess.check_call(\\n                    [sys.executable, \"-m\", \"pip\", \"install\", lib_pip]\\n                )\\n                print(f\"{lib} installed successfully!\")\\n            except subprocess.CalledProcessError:\\n                print(f\"Failed to install {lib}. Please install it manually.\")\\n\\nif __name__ == \"__main__\":\\n    check_and_install_libraries(required_libraries)\\n'"
      ]
     },
     "execution_count": 3,
     "metadata": {},
     "output_type": "execute_result"
    }
   ],
   "source": [
    "#| eval: false\n",
    "\n",
    "\"\"\"\n",
    "# Pre-installation script for required libraries\n",
    "\n",
    "import subprocess\n",
    "import sys\n",
    "\n",
    "# List of required libraries\n",
    "required_libraries = [\n",
    "    \"os\", \"sys\", \"torch\", \"time\", \"numpy\", \"pandas\", \"fastai\", \"pathlib\"\n",
    "]\n",
    "\n",
    "# Function to check and install missing libraries\n",
    "def check_and_install_libraries(libraries):\n",
    "    for lib in libraries:\n",
    "        try:\n",
    "            # Check if the library can be imported\n",
    "            __import__(lib)\n",
    "        except ImportError:\n",
    "            # Special case for libraries with different pip names\n",
    "            lib_pip = lib\n",
    "            if lib == \"torch\":\n",
    "                lib_pip = \"torch torchvision torchaudio --index-url https://download.pytorch.org/whl/cpu\"\n",
    "            elif lib == \"fastai\":\n",
    "                lib_pip = \"fastai\"\n",
    "\n",
    "            print(f\"{lib} not found. Installing...\")\n",
    "            try:\n",
    "                subprocess.check_call(\n",
    "                    [sys.executable, \"-m\", \"pip\", \"install\", lib_pip]\n",
    "                )\n",
    "                print(f\"{lib} installed successfully!\")\n",
    "            except subprocess.CalledProcessError:\n",
    "                print(f\"Failed to install {lib}. Please install it manually.\")\n",
    "\n",
    "if __name__ == \"__main__\":\n",
    "    check_and_install_libraries(required_libraries)\n",
    "\"\"\"\n"
   ]
  },
  {
   "cell_type": "code",
   "execution_count": 5,
   "metadata": {},
   "outputs": [],
   "source": [
    "#| eval: false\n",
    "# Required imports\n",
    "import csv\n",
    "import os\n",
    "import sys\n",
    "import torch\n",
    "import time\n",
    "import numpy as np\n",
    "import pandas as pd\n",
    "from torch import nn\n",
    "from fastai.vision.all import DataLoader, DataLoaders\n",
    "from torch.utils.data import Dataset, DataLoader as TorchDataLoader\n",
    "from pathlib import Path"
   ]
  },
  {
   "cell_type": "code",
   "execution_count": 8,
   "metadata": {},
   "outputs": [],
   "source": [
    "#| eval: false\n",
    "# Adjust paths for imports\n",
    "sys.path.append('/root/HSI_HypSpecNet11k/hsi-compression/models')\n",
    "from sscnet import SpectralSignalsCompressorNetwork"
   ]
  },
  {
   "cell_type": "markdown",
   "metadata": {},
   "source": [
    "### Loading Pretrained Weights\n",
    "\n",
    "We have pre-trained weights, so we are using that in place of pre-trained model\n",
    "\n",
    "This utility function, `load_pretrained_weights`, is designed to load pretrained model weights into a sscnet model.\n",
    "\n",
    "- **Input Parameters**:\n",
    "  - `model`: The model into which the weights will be loaded i.e. sscnet.\n",
    "  - `pretrained_weights_path`: The file path to the pretrained model weights.\n",
    "\n",
    "- **Process**:\n",
    "  1. The function begins by printing a message indicating the source of the pretrained weights.\n",
    "  2. It loads the checkpoint from the specified path using `torch.load`.\n",
    "  3. It retrieves the state dictionary from the checkpoint. If the checkpoint itself is a dictionary containing multiple elements, it fetches the state dictionary using the key `\"state_dict\"`; otherwise, it uses the checkpoint directly.\n",
    "  4. The state dictionary is then loaded into the model using `model.load_state_dict`, with the `strict` parameter set to `False`. This allows for partial loading if the model architecture doesn't exactly match the weights, ignoring non-matching keys.\n",
    "\n",
    "- **Output**:\n",
    "  - The function prints a success message once the weights are loaded into the model.\n",
    "\n",
    "- **Note**:\n",
    "  - This function is particularly useful in scenarios where you want to initialize a model with weights from a pretrained model to improve performance or transfer learning to a related task.\n"
   ]
  },
  {
   "cell_type": "code",
   "execution_count": 6,
   "metadata": {},
   "outputs": [],
   "source": [
    "#| eval: false\n",
    "# Utility function to load pretrained weights\n",
    "def load_pretrained_weights(model, pretrained_weights_path):\n",
    "    print(f\"Loading pretrained weights from {pretrained_weights_path}...\")\n",
    "    checkpoint = torch.load(pretrained_weights_path)\n",
    "    state_dict = checkpoint.get(\"state_dict\", checkpoint)\n",
    "    model.load_state_dict(state_dict, strict=False)\n",
    "    print(\"Pretrained weights loaded successfully.\")"
   ]
  },
  {
   "cell_type": "markdown",
   "metadata": {},
   "source": [
    "### Loading Data Paths from CSV\n",
    "\n",
    "This section of the code includes a utility function `load_paths` designed to read file paths from a CSV file and prepend a base directory to each path.\n",
    "\n",
    "- **Base Directory**:\n",
    "  - The `base_directory` variable is set to `'/root/HSI_HypSpecNet11k/hsi-compression/datasets/hyspecnet-11k/patches/'`, which is the root directory where `.npy` files are stored.\n",
    "\n",
    "- **Utility Function `load_paths`**:\n",
    "  - **Input Parameter**:\n",
    "    - `csv_file`: The path to the CSV file that contains relative paths to the `.npy` data files.\n",
    "\n",
    "  - **Process**:\n",
    "    1. The function reads the CSV file into a DataFrame `df` using `pd.read_csv` with no header (assumes single column of file paths).\n",
    "    2. It constructs full file paths by concatenating the base directory with each path in the DataFrame. The `os.path.join` is used to ensure the paths are correctly formatted for the operating system.\n",
    "    3. A success message, \"Paths loaded successfully.\", is printed to indicate that the paths have been loaded.\n",
    "\n",
    "  - **Output**:\n",
    "    - The function returns a list of complete file paths, which can be used to load the `.npy` data files for further processing.\n",
    "\n",
    "This utility is particularly useful for handling datasets where paths are stored separately, allowing for dynamic assembly of full file paths based on a consistent base directory.\n"
   ]
  },
  {
   "cell_type": "code",
   "execution_count": 7,
   "metadata": {},
   "outputs": [],
   "source": [
    "\n",
    "#| eval: false\n",
    "# Base directory for `.npy` files\n",
    "base_directory = '/root/HSI_HypSpecNet11k/hsi-compression/datasets/hyspecnet-11k/patches/'\n",
    "\n",
    "# Utility to load paths from a CSV file\n",
    "def load_paths(csv_file):\n",
    "    df = pd.read_csv(csv_file, header=None)\n",
    "    file_paths = [os.path.join(base_directory, x.strip()) for x in df[0]]\n",
    "    print(\"Paths loaded successfully.\")\n",
    "    return file_paths\n"
   ]
  },
  {
   "cell_type": "markdown",
   "metadata": {},
   "source": [
    "### Creating the Dataloader\n",
    "\n",
    "#### NPYDataset Class\n",
    "The `NPYDataset` class is a custom dataset class tailored for handling `.npy` files for deep learning tasks.\n",
    "\n",
    "- **Constructor**:\n",
    "  - **Parameters**:\n",
    "    - `root_dir`: Base directory for the dataset.\n",
    "    - `mode`: Difficulty level of the dataset ('easy' by default).\n",
    "    - `split`: Type of data split ('train', 'val', 'test').\n",
    "    - `transform`: Transformations to be applied on each sample.\n",
    "  - **Initialization**:\n",
    "    - The constructor initializes the dataset paths by reading a CSV file that lists the data points for the specified split and mode.\n",
    "    - It constructs full file paths to the `.npy` files which are stored under the `patches` subdirectory within `root_dir`.\n",
    "    - If a transform is provided, it is stored for later use on data retrieval.\n",
    "\n",
    "- **Data Retrieval**:\n",
    "  - `__len__`: Returns the number of samples in the dataset.\n",
    "  - `__getitem__`: Retrieves a sample by index, loads the numpy data from the disk, converts it into a PyTorch tensor, and applies any specified transformations.\n",
    "\n",
    "#### Transform Sample Function\n",
    "- `transform_sample`: A simple function to standardize numpy samples. It normalizes a sample by subtracting its mean and dividing by its standard deviation.\n",
    "\n",
    "#### DataLoader Creation\n",
    "- `create_dataloaders`: This utility function creates a set of `DataLoader` instances for the training, validation, and test sets.\n",
    "  - **Parameters**:\n",
    "    - `batch_size`: Number of samples per batch.\n",
    "    - `transform`: Optional transformation to apply to each sample.\n",
    "  - **Process**:\n",
    "    - It iterates over the splits, instantiates the `NPYDataset` for each, and creates a DataLoader for batching the data efficiently.\n",
    "    - These DataLoaders are collected into a `DataLoaders` class instance, which is a simple container for managing train, validation, and optionally test loaders.\n",
    "\n",
    "### Usage\n",
    "This setup is ideal for scenarios involving deep learning models where data comes in the form of numpy arrays and requires efficient loading and preprocessing. The separation of concerns between dataset management and data transformations allows for flexible adjustments to preprocessing pipelines and training procedures.\n"
   ]
  },
  {
   "cell_type": "code",
   "execution_count": 8,
   "metadata": {},
   "outputs": [],
   "source": [
    "\n",
    "#| eval: false\n",
    "# Dataset class for `.npy` files\n",
    "class NPYDataset(Dataset):\n",
    "    def __init__(self, root_dir, mode=\"easy\", split=\"train\", transform=None):\n",
    "        self.root_dir = root_dir\n",
    "\n",
    "        self.csv_path = os.path.join(self.root_dir, \"splits\", mode, f\"{split}.csv\")\n",
    "        with open(self.csv_path, newline='') as f:\n",
    "            csv_reader = csv.reader(f)\n",
    "            csv_data = list(csv_reader)\n",
    "            self.npy_paths = sum(csv_data, [])\n",
    "        self.npy_paths = [os.path.join(self.root_dir, \"patches\", x) for x in self.npy_paths]\n",
    "\n",
    "        self.transform = transform\n",
    "\n",
    "    def __len__(self):\n",
    "        return len(self.npy_paths)\n",
    "\n",
    "    def __getitem__(self, index):\n",
    "        # get full numpy path\n",
    "        npy_path = self.npy_paths[index]\n",
    "        # read numpy data\n",
    "        img = np.load(npy_path)\n",
    "        # convert numpy array to pytorch tensor\n",
    "        img = torch.from_numpy(img)\n",
    "        # apply transformations\n",
    "        if self.transform:\n",
    "            img = self.transform(img)\n",
    "        return img, img\n",
    "\n",
    "#| eval: false\n",
    "# Function to standardize samples\n",
    "def transform_sample(sample):\n",
    "    return (sample - np.mean(sample)) / np.std(sample)\n",
    "\n",
    "#| eval: false\n",
    "# Function to create DataLoaders\n",
    "def create_dataloaders(batch_size=4, transform=None):\n",
    "    datadir = \"/root/HSI_HypSpecNet11k/hsi-compression/datasets/hyspecnet-11k/\"\n",
    "    dl_list = []\n",
    "    for split in [\"train\", \"val\", \"test\"]:\n",
    "        dataset = NPYDataset(datadir, mode=\"easy\", split=split, transform=None)\n",
    "        dl = DataLoader(\n",
    "            dataset,\n",
    "            batch_size=batch_size,\n",
    "            num_workers=10,\n",
    "            shuffle=False,\n",
    "            pin_memory=False,\n",
    "            drop_last=False\n",
    "        )\n",
    "        dl_list.append(dl)\n",
    "    dls = DataLoaders(dl_list[0], dl_list[1])\n",
    "    dls.test_dl = dl_list[2]\n",
    "    return dls"
   ]
  },
  {
   "cell_type": "markdown",
   "metadata": {},
   "source": [
    "### Pruning Compression Model\n",
    "\n",
    "Pruning is a model compression technique that reduces the complexity of a neural network by removing unnecessary weights. This process can help improve model efficiency without significantly affecting performance. Here's a brief overview of how pruning is typically implemented:\n",
    "\n",
    "- **Identifying Prune Targets**:\n",
    "  - Weights or neurons with minimal impact on the output are identified typically through metrics like weight magnitude.\n",
    "\n",
    "- **Pruning Process**:\n",
    "  - Selected weights are set to zero to effectively remove them from the network.\n",
    "\n",
    "- **Re-training (Optional)**:\n",
    "  - The pruned model may be fine-tuned or fully re-trained to recover any lost performance due to the pruning process.\n",
    "\n",
    "- **Benefits**:\n",
    "  - Reduced model size, faster inference, and sometimes reduced overfitting.\n",
    "\n",
    "This technique is particularly useful for deployment on resource-constrained environments.\n"
   ]
  },
  {
   "cell_type": "code",
   "execution_count": 12,
   "metadata": {},
   "outputs": [],
   "source": [
    "#| eval: false\n",
    "from tqdm import tqdm  # Import tqdm for progress bars\n",
    "from sscnet import SpectralSignalsCompressorNetwork  # Import SSCNet model\n",
    "from quantize_callback import QuantizeCallback  # Import QuantizeCallback\n",
    "from fastai.learner import Learner  # Import Learner from FastAI\n",
    "from fasterai.prune.all import *\n",
    "from fasterai.sparse.all import *\n"
   ]
  },
  {
   "cell_type": "code",
   "execution_count": 13,
   "metadata": {},
   "outputs": [],
   "source": [
    "#| eval: false\n",
    "pretrained_weights_path = \"/root/HSI_HypSpecNet11k/hsi-compression/results/weights/sscnet_2point5bpppc.pth.tar\"\n",
    "quantized_weights_path = \"/root/HSI_HypSpecNet11k/hsi-compression/compressed_model/quantized_sscnet.pth\"\n"
   ]
  },
  {
   "cell_type": "code",
   "execution_count": 14,
   "metadata": {},
   "outputs": [],
   "source": [
    "#learn.model"
   ]
  },
  {
   "cell_type": "markdown",
   "metadata": {},
   "source": [
    "### Custom Prune Callback\n",
    "\n",
    "The `CustomPruneCallback` is designed to integrate with the `fastai` training loop, allowing for dynamic pruning of neural network models during training.\n",
    "\n",
    "- **Initialization**:\n",
    "  - The callback is initialized with several parameters such as target sparsity levels, pruning context, criteria for selecting weights to prune, scheduling for pruning operations, and specific layer types to target (default is `nn.Conv2d`).\n",
    "  - The `store_attr()` function from `fastai` automatically stores all constructor arguments as instance attributes.\n",
    "\n",
    "- **Callback Events**:\n",
    "  - `before_fit`: Announces the beginning of pruning and initializes the pruner object with the model and specified settings.\n",
    "  - `before_batch`: Adjusts the sparsity level according to a defined schedule at the beginning of each batch and prunes the model if in training mode.\n",
    "  - `after_step`: Performs any required cleanup or updates right after a training step.\n",
    "  - `after_epoch`: Prints the sparsity level at the end of each epoch to monitor progress.\n",
    "  - `after_fit`: Outputs the final sparsity level and resets the scheduler post-training.\n",
    "\n",
    "- **Pruning Process**:\n",
    "  - Pruning involves selectively zeroing out weights in specified layers based on the criteria and schedule provided. This is managed by the `Pruner` class from `fasterai`.\n"
   ]
  },
  {
   "cell_type": "code",
   "execution_count": 15,
   "metadata": {},
   "outputs": [],
   "source": [
    "from fastai.callback.all import *\n",
    "from fasterai.prune import pruner\n",
    "from fasterai.core.criteria import *\n",
    "from fasterai.core.schedule import *\n",
    "from fastai.vision.all import *\n",
    "\n",
    "class CustomPruneCallback(Callback):\n",
    "    def __init__(self, sparsity:int, context:str, criteria:Callable, schedule:Callable, model:nn.Module=None, round_to:int=None, layer_type:nn.Module=[nn.Conv2d]):\n",
    "        store_attr()\n",
    "        self.sparsity = listify(self.sparsity)\n",
    "\n",
    "    def before_fit(self):\n",
    "        print(f'Pruning until a sparsity of {self.sparsity}%')\n",
    "        model = self.model if self.model else self.learn.model\n",
    "        self.pruner = Pruner(model, self.context, self.criteria, layer_type=self.layer_type, example_inputs=torch.randn(1,202,128,128))\n",
    "\n",
    "    def before_batch(self):\n",
    "        self.current_sparsity = self.schedule(self.sparsity, round(self.pct_train,3))\n",
    "        if self.schedule.pruned and self.training:\n",
    "            self.pruner.prune_model(self.current_sparsity[0], self.round_to)\n",
    "\n",
    "    def after_step(self):\n",
    "        self.schedule.after_pruned()\n",
    "\n",
    "    def after_epoch(self):\n",
    "        sparsity_str = [float(f\"%0.2f\"%sp) for sp in self.current_sparsity]\n",
    "        print(f'Sparsity at the end of epoch {self.epoch}: {sparsity_str}%')\n",
    "\n",
    "    def after_fit(self):\n",
    "        print(f'Final Sparsity: {self.schedule.current_sparsity:}%')\n",
    "        self.schedule.reset()"
   ]
  },
  {
   "cell_type": "markdown",
   "metadata": {},
   "source": [
    "### Training and Pruning a Spectral Signals Compressor Network\n",
    "\n",
    "This section demonstrates the training and pruning process for a `SpectralSignalsCompressorNetwork` using `fastai` and custom callbacks:\n",
    "\n",
    "- **Model Setup**:\n",
    "  - A model instance is created and pre-trained weights are loaded with flexibility in matching keys (`strict=False`).\n",
    "\n",
    "- **Data Loading**:\n",
    "  - DataLoaders are created by the `create_dataloaders` function defined earlier.\n",
    "\n",
    "- **Training Setup**:\n",
    "  - A `Learner` is initialized with the dataset loaders, model, and mean squared error loss function for training.\n",
    "\n",
    "- **Initial Sparse Training**:\n",
    "  - The model is trained for 5 epochs with a maximum learning rate of `1e-5` using the `SparsifyCallback`, which applies structured pruning based on the specified sparsity of 30%, granularity (\"filter\"), global context, large final criteria for selecting weights, and a one-cycle schedule for applying pruning.\n",
    "  - The state dictionary of the model after this training is saved.\n",
    "\n",
    "- **Further Pruning with Custom Callback**:\n",
    "  - Further training for 3 epochs is conducted using the `CustomPruneCallback`, designed to dynamically adjust and apply sparsity during training.\n",
    "  - The entire model (including its architecture) is then saved post-pruning.\n",
    "\n",
    "This setup showcases a typical workflow for training and progressively pruning a neural network, where initial training integrates basic sparsity and is followed by a more customized pruning phase to fine-tune the network's efficiency and performance.\n"
   ]
  },
  {
   "cell_type": "code",
   "execution_count": 16,
   "metadata": {},
   "outputs": [
    {
     "name": "stdout",
     "output_type": "stream",
     "text": [
      "Pruning of filter until a sparsity of [30]%\n",
      "Saving Weights at epoch 0\n"
     ]
    },
    {
     "name": "stderr",
     "output_type": "stream",
     "text": [
      "/tmp/ipykernel_74319/2077227823.py:2: FutureWarning: You are using `torch.load` with `weights_only=False` (the current default value), which uses the default pickle module implicitly. It is possible to construct malicious pickle data which will execute arbitrary code during unpickling (See https://github.com/pytorch/pytorch/blob/main/SECURITY.md#untrusted-models for more details). In a future release, the default value for `weights_only` will be flipped to `True`. This limits the functions that could be executed during unpickling. Arbitrary objects will no longer be allowed to be loaded via this mode unless they are explicitly allowlisted by the user via `torch.serialization.add_safe_globals`. We recommend you start setting `weights_only=True` for any use case where you don't have full control of the loaded file. Please open an issue on GitHub for any issues related to this experimental feature.\n",
      "  model.load_state_dict(torch.load(pretrained_weights_path)[\"state_dict\"], strict=False)\n"
     ]
    },
    {
     "data": {
      "text/html": [
       "\n",
       "<style>\n",
       "    /* Turns off some styling */\n",
       "    progress {\n",
       "        /* gets rid of default border in Firefox and Opera. */\n",
       "        border: none;\n",
       "        /* Needs to be in here for Safari polyfill so background images work as expected. */\n",
       "        background-size: auto;\n",
       "    }\n",
       "    progress:not([value]), progress:not([value])::-webkit-progress-bar {\n",
       "        background: repeating-linear-gradient(45deg, #7e7e7e, #7e7e7e 10px, #5c5c5c 10px, #5c5c5c 20px);\n",
       "    }\n",
       "    .progress-bar-interrupted, .progress-bar-interrupted::-webkit-progress-bar {\n",
       "        background: #F44336;\n",
       "    }\n",
       "</style>\n"
      ],
      "text/plain": [
       "<IPython.core.display.HTML object>"
      ]
     },
     "metadata": {},
     "output_type": "display_data"
    },
    {
     "data": {
      "text/html": [
       "<table border=\"1\" class=\"dataframe\">\n",
       "  <thead>\n",
       "    <tr style=\"text-align: left;\">\n",
       "      <th>epoch</th>\n",
       "      <th>train_loss</th>\n",
       "      <th>valid_loss</th>\n",
       "      <th>time</th>\n",
       "    </tr>\n",
       "  </thead>\n",
       "  <tbody>\n",
       "    <tr>\n",
       "      <td>0</td>\n",
       "      <td>0.000163</td>\n",
       "      <td>0.000144</td>\n",
       "      <td>15:54</td>\n",
       "    </tr>\n",
       "    <tr>\n",
       "      <td>1</td>\n",
       "      <td>0.000513</td>\n",
       "      <td>0.000577</td>\n",
       "      <td>15:52</td>\n",
       "    </tr>\n",
       "    <tr>\n",
       "      <td>2</td>\n",
       "      <td>0.000637</td>\n",
       "      <td>0.000609</td>\n",
       "      <td>15:50</td>\n",
       "    </tr>\n",
       "    <tr>\n",
       "      <td>3</td>\n",
       "      <td>0.000520</td>\n",
       "      <td>0.000502</td>\n",
       "      <td>15:51</td>\n",
       "    </tr>\n",
       "    <tr>\n",
       "      <td>4</td>\n",
       "      <td>0.000489</td>\n",
       "      <td>0.000493</td>\n",
       "      <td>15:51</td>\n",
       "    </tr>\n",
       "  </tbody>\n",
       "</table>"
      ],
      "text/plain": [
       "<IPython.core.display.HTML object>"
      ]
     },
     "metadata": {},
     "output_type": "display_data"
    },
    {
     "name": "stdout",
     "output_type": "stream",
     "text": [
      "Sparsity at the end of epoch 0: [1.18]%\n",
      "Sparsity at the end of epoch 1: [12.04]%\n",
      "Sparsity at the end of epoch 2: [27.51]%\n",
      "Sparsity at the end of epoch 3: [29.85]%\n",
      "Sparsity at the end of epoch 4: [30.0]%\n",
      "Final Sparsity: [np.float64(30.0)]%\n",
      "Sparsity in Conv2d 2: 3.52%\n",
      "Sparsity in Conv2d 4: 12.11%\n",
      "Sparsity in Conv2d 7: 13.28%\n",
      "Sparsity in Conv2d 10: 15.43%\n",
      "Sparsity in Conv2d 13: 52.54%\n",
      "Pruning until a sparsity of [30]%\n"
     ]
    },
    {
     "data": {
      "text/html": [
       "\n",
       "<style>\n",
       "    /* Turns off some styling */\n",
       "    progress {\n",
       "        /* gets rid of default border in Firefox and Opera. */\n",
       "        border: none;\n",
       "        /* Needs to be in here for Safari polyfill so background images work as expected. */\n",
       "        background-size: auto;\n",
       "    }\n",
       "    progress:not([value]), progress:not([value])::-webkit-progress-bar {\n",
       "        background: repeating-linear-gradient(45deg, #7e7e7e, #7e7e7e 10px, #5c5c5c 10px, #5c5c5c 20px);\n",
       "    }\n",
       "    .progress-bar-interrupted, .progress-bar-interrupted::-webkit-progress-bar {\n",
       "        background: #F44336;\n",
       "    }\n",
       "</style>\n"
      ],
      "text/plain": [
       "<IPython.core.display.HTML object>"
      ]
     },
     "metadata": {},
     "output_type": "display_data"
    },
    {
     "data": {
      "text/html": [
       "<table border=\"1\" class=\"dataframe\">\n",
       "  <thead>\n",
       "    <tr style=\"text-align: left;\">\n",
       "      <th>epoch</th>\n",
       "      <th>train_loss</th>\n",
       "      <th>valid_loss</th>\n",
       "      <th>time</th>\n",
       "    </tr>\n",
       "  </thead>\n",
       "  <tbody>\n",
       "    <tr>\n",
       "      <td>0</td>\n",
       "      <td>0.000490</td>\n",
       "      <td>0.000287</td>\n",
       "      <td>15:46</td>\n",
       "    </tr>\n",
       "    <tr>\n",
       "      <td>1</td>\n",
       "      <td>0.000242</td>\n",
       "      <td>0.000234</td>\n",
       "      <td>15:04</td>\n",
       "    </tr>\n",
       "    <tr>\n",
       "      <td>2</td>\n",
       "      <td>0.000239</td>\n",
       "      <td>0.000249</td>\n",
       "      <td>14:28</td>\n",
       "    </tr>\n",
       "  </tbody>\n",
       "</table>"
      ],
      "text/plain": [
       "<IPython.core.display.HTML object>"
      ]
     },
     "metadata": {},
     "output_type": "display_data"
    },
    {
     "name": "stdout",
     "output_type": "stream",
     "text": [
      "Sparsity at the end of epoch 0: [6.24]%\n",
      "Sparsity at the end of epoch 1: [28.98]%\n",
      "Sparsity at the end of epoch 2: [30.0]%\n",
      "Final Sparsity: [np.float64(30.0)]%\n"
     ]
    }
   ],
   "source": [
    "model = SpectralSignalsCompressorNetwork()\n",
    "model.load_state_dict(torch.load(pretrained_weights_path)[\"state_dict\"], strict=False)\n",
    "\n",
    "dls = create_dataloaders()\n",
    "\n",
    "learn = Learner(\n",
    "    dls,\n",
    "    model,\n",
    "    loss_func=torch.nn.MSELoss(),\n",
    ")\n",
    "\n",
    "sparsity = 30\n",
    "granularity = \"filter\"\n",
    "context = \"global\"\n",
    "criteria = large_final\n",
    "schedule = one_cycle\n",
    "cbs = SparsifyCallback(sparsity, granularity, context, criteria, schedule)\n",
    "learn.fit_one_cycle(5, lr_max=1e-5, cbs=cbs)\n",
    "torch.save(learn.model.state_dict(), \"sp30ep5lr5.pth\")\n",
    "\n",
    "cbs = CustomPruneCallback(sparsity, context, criteria, schedule)\n",
    "learn.fit_one_cycle(3, cbs=cbs)\n",
    "torch.save(learn.model, \"prsp30ep5lr5.pth\")"
   ]
  },
  {
   "cell_type": "markdown",
   "metadata": {},
   "source": [
    "### Counting Model Parameters\n",
    "\n",
    "The function, `count_parameters`, is used to calculate the total number of trainable parameters in a given model. This functionality is crucial for analyzing the model's complexity and resource requirements.\n",
    "\n",
    "- **Function `count_parameters`**:\n",
    "  - **Input**: \n",
    "    - `model`: The neural network model whose parameters are to be counted.\n",
    "  - **Process**:\n",
    "    - The function iterates over all parameters of the model using `model.parameters()`, which provides a generator of all parameters.\n",
    "    - For each parameter, it uses `numel()` to get the number of elements in that parameter tensor.\n",
    "    - These counts are summed up to get the total number of parameters in the model.\n",
    "  - **Output**:\n",
    "    - Returns the total number of parameters, providing a single integer value that represents the model's size in terms of its trainable parameters.\n",
    "\n",
    "- **Note**:\n",
    "  - The function is demonstrated by counting the parameters of two models: `original_model` and `compressed_model`. This is useful to compare the parameter count before and after compression, which might reduce the model's size by pruning or other techniques.\n"
   ]
  },
  {
   "cell_type": "code",
   "execution_count": 21,
   "metadata": {},
   "outputs": [
    {
     "data": {
      "text/plain": [
       "(13783242, 7911383)"
      ]
     },
     "execution_count": 21,
     "metadata": {},
     "output_type": "execute_result"
    }
   ],
   "source": [
    "\n",
    "def count_parameters(model):\n",
    "    return sum(p.numel() for p in model.parameters())\n",
    "\n",
    "count_parameters(original_model), count_parameters(compressed_model)"
   ]
  },
  {
   "cell_type": "markdown",
   "metadata": {},
   "source": [
    "### PSNR Calculation for Compression Models\n",
    "\n",
    "This script evaluates the performance of the original and quantized versions of a `SpectralSignalsCompressorNetwork` by calculating their Peak Signal-to-Noise Ratio (PSNR), an important metric in assessing the quality of compressed images or signals.\n",
    "\n",
    "- **Importing Required Libraries**:\n",
    "  - `torch`: For model operations and tensor manipulations.\n",
    "  - `metrics.psnr`: A module containing the `PeakSignalToNoiseRatio` class to compute the PSNR.\n",
    "  - `tqdm`: To display progress during PSNR calculations.\n",
    "\n",
    "- **PSNR Calculation Function**:\n",
    "  - `calculate_psnr`: A function that calculates the average PSNR over all samples in a given dataloader.\n",
    "  - Parameters include the model, dataloader, and the computation device (`cpu` or `cuda`).\n",
    "  - The function moves the model to the specified device, evaluates it, and computes PSNR for each batch of data. The average PSNR across all batches is then calculated and returned.\n",
    "\n",
    "- **Model Setup**:\n",
    "  - The original model's weights are loaded from a specified path and set into the `SpectralSignalsCompressorNetwork`.\n",
    "  - The model is then evaluated using the testing dataloader.\n",
    "\n",
    "- **PSNR Calculation for Original and Quantized Models**:\n",
    "  - The PSNR for the original model is calculated after loading its saved state.\n",
    "  - The quantized model is loaded and evaluated in the same manner.\n",
    "\n",
    "- **Results**:\n",
    "  - The PSNR values for both models are calculated and printed, providing a direct comparison of the quality between the original and the modified models.\n"
   ]
  },
  {
   "cell_type": "code",
   "execution_count": 20,
   "metadata": {},
   "outputs": [
    {
     "name": "stderr",
     "output_type": "stream",
     "text": [
      "/tmp/ipykernel_74319/4264640114.py:31: FutureWarning: You are using `torch.load` with `weights_only=False` (the current default value), which uses the default pickle module implicitly. It is possible to construct malicious pickle data which will execute arbitrary code during unpickling (See https://github.com/pytorch/pytorch/blob/main/SECURITY.md#untrusted-models for more details). In a future release, the default value for `weights_only` will be flipped to `True`. This limits the functions that could be executed during unpickling. Arbitrary objects will no longer be allowed to be loaded via this mode unless they are explicitly allowlisted by the user via `torch.serialization.add_safe_globals`. We recommend you start setting `weights_only=True` for any use case where you don't have full control of the loaded file. Please open an issue on GitHub for any issues related to this experimental feature.\n",
      "  original_model.load_state_dict(torch.load(original_model_path)[\"state_dict\"], strict=False)\n"
     ]
    },
    {
     "name": "stdout",
     "output_type": "stream",
     "text": [
      "Loading original model weights from /root/HSI_HypSpecNet11k/hsi-compression/results/weights/sscnet_2point5bpppc.pth.tar...\n",
      "Original model loaded successfully.\n"
     ]
    },
    {
     "name": "stderr",
     "output_type": "stream",
     "text": [
      "Calculating PSNR: 100%|█████████████████████████████████████████████████████████████████████████████████████████████████████████| 61/61 [00:03<00:00, 16.32it/s]\n",
      "/tmp/ipykernel_74319/4264640114.py:38: FutureWarning: You are using `torch.load` with `weights_only=False` (the current default value), which uses the default pickle module implicitly. It is possible to construct malicious pickle data which will execute arbitrary code during unpickling (See https://github.com/pytorch/pytorch/blob/main/SECURITY.md#untrusted-models for more details). In a future release, the default value for `weights_only` will be flipped to `True`. This limits the functions that could be executed during unpickling. Arbitrary objects will no longer be allowed to be loaded via this mode unless they are explicitly allowlisted by the user via `torch.serialization.add_safe_globals`. We recommend you start setting `weights_only=True` for any use case where you don't have full control of the loaded file. Please open an issue on GitHub for any issues related to this experimental feature.\n",
      "  compressed_model = torch.load(\"prsp30ep5lr5.pth\")\n",
      "Calculating PSNR: 100%|█████████████████████████████████████████████████████████████████████████████████████████████████████████| 61/61 [00:03<00:00, 17.62it/s]"
     ]
    },
    {
     "name": "stdout",
     "output_type": "stream",
     "text": [
      "PSNR for Original Model: 43.37 dB\n",
      "PSNR for Quantized Model: 36.09 dB\n"
     ]
    },
    {
     "name": "stderr",
     "output_type": "stream",
     "text": [
      "\n"
     ]
    }
   ],
   "source": [
    "import torch\n",
    "from metrics.psnr import PeakSignalToNoiseRatio\n",
    "from tqdm import tqdm\n",
    "\n",
    "# Path to the original model's weights\n",
    "original_model_path = \"/root/HSI_HypSpecNet11k/hsi-compression/results/weights/sscnet_2point5bpppc.pth.tar\"\n",
    "\n",
    "@torch.no_grad()\n",
    "def calculate_psnr(model, dataloader, device=\"cpu\"):\n",
    "    psnr_metric = PeakSignalToNoiseRatio()\n",
    "    model.to(device).eval()\n",
    "\n",
    "    total_psnr = 0.0\n",
    "    num_samples = 0\n",
    "\n",
    "    with torch.no_grad():\n",
    "        for xb,_ in tqdm(dataloader, desc=\"Calculating PSNR\", leave=True):\n",
    "            xb = xb.to(device)\n",
    "            preds = model(xb)\n",
    "            psnr = psnr_metric(preds, xb)\n",
    "            total_psnr += psnr.item()\n",
    "    \n",
    "        avg_psnr = total_psnr / len(dataloader)\n",
    "    return avg_psnr\n",
    "\n",
    "# Initialize the original model\n",
    "original_model = SpectralSignalsCompressorNetwork()\n",
    "\n",
    "# Load the original model weights\n",
    "print(f\"Loading original model weights from {original_model_path}...\")\n",
    "original_model.load_state_dict(torch.load(original_model_path)[\"state_dict\"], strict=False)\n",
    "print(\"Original model loaded successfully.\")\n",
    "\n",
    "# Calculate PSNR for the original model\n",
    "psnr_original = calculate_psnr(original_model, dls.test_dl, device=\"cuda\")\n",
    "\n",
    "# Calculate PSNR for the quantized model (directly, no saving or loading)\n",
    "compressed_model = torch.load(\"prsp30ep5lr5.pth\")\n",
    "compressed_model.eval()\n",
    "psnr_quantized = calculate_psnr(compressed_model, dls.test_dl, device=\"cuda\")\n",
    "\n",
    "# Print PSNR results\n",
    "print(f\"PSNR for Original Model: {psnr_original:.2f} dB\")\n",
    "print(f\"PSNR for Quantized Model: {psnr_quantized:.2f} dB\")\n"
   ]
  },
  {
   "cell_type": "markdown",
   "metadata": {},
   "source": [
    "### Calculating Structural Similarity Index (SSIM)\n",
    "\n",
    "This script includes a function to compute the Structural Similarity Index (SSIM), a common metric used to measure the similarity between two images. SSIM is particularly valuable in evaluating the quality of images produced by compression models.\n",
    "\n",
    "- **SSIM Calculation Function**:\n",
    "  - `calculate_ssim`: This function evaluates the SSIM for a given model and dataloader.\n",
    "  - **Parameters**:\n",
    "    - `model`: The neural network model to evaluate.\n",
    "    - `dataloader`: Contains the dataset to compute the SSIM against.\n",
    "    - `device`: Specifies the computation device (`'cpu'` or `'cuda'`).\n",
    "  - **Process**:\n",
    "    - Initializes an SSIM metric instance with a specified data range and number of channels.\n",
    "    - Iterates over the data loader, computing the SSIM for each batch of predictions made by the model compared to the original data.\n",
    "    - Aggregates SSIM scores across all samples to compute an average SSIM.\n",
    "\n",
    "- **Model Evaluation**:\n",
    "  - The function is applied to both the original and quantized versions of the `SpectralSignalsCompressorNetwork`, calculating the SSIM for each on the validation dataset.\n",
    "  - Both models are evaluated on the specified `device`, which is determined based on GPU availability.\n",
    "\n",
    "- **Output**:\n",
    "  - Prints the computed SSIM values for both models, providing insight into the impact of quantization on image quality.\n",
    "\n",
    "This functionality is crucial for quantifying the effectiveness of model compression techniques like quantization, by measuring how well the compressed model retains the quality of its output compared to the original model.\n"
   ]
  },
  {
   "cell_type": "code",
   "execution_count": 33,
   "metadata": {},
   "outputs": [
    {
     "name": "stderr",
     "output_type": "stream",
     "text": [
      "Calculating SSIM: 100%|██████████████████████████████████████████████████████████████████████████████████████| 306/306 [00:19<00:00, 15.45it/s]\n",
      "Calculating SSIM: 100%|██████████████████████████████████████████████████████████████████████████████████████| 306/306 [00:20<00:00, 15.07it/s]"
     ]
    },
    {
     "name": "stdout",
     "output_type": "stream",
     "text": [
      "SSIM for Original Model: 0.9754\n",
      "SSIM for Quantized Model: 0.9119\n"
     ]
    },
    {
     "name": "stderr",
     "output_type": "stream",
     "text": [
      "\n"
     ]
    }
   ],
   "source": [
    "@torch.no_grad()\n",
    "def calculate_ssim(model, dataloader, device=\"cpu\"):\n",
    "    ssim_metric = StructuralSimilarity(data_range=1.0, channels=202)\n",
    "    total_ssim = 0.0\n",
    "    num_samples = 0\n",
    "    \n",
    "    for xb, _ in tqdm(dataloader, desc=\"Calculating SSIM\", leave=True):\n",
    "        xb = xb.to(device)\n",
    "        preds = model(xb)\n",
    "        ssim = ssim_metric(preds, xb)\n",
    "        total_ssim += ssim.item() * xb.size(0)\n",
    "        num_samples += xb.size(0)\n",
    "    \n",
    "    avg_ssim = total_ssim / num_samples\n",
    "    return avg_ssim\n",
    "\n",
    "ssim_original = calculate_ssim(original_model, dls.valid, device=device)\n",
    "ssim_quantized = calculate_ssim(quantized_model, dls.valid, device=device)\n",
    "\n",
    "print(f\"SSIM for Original Model: {ssim_original:.4f}\")\n",
    "print(f\"SSIM for Quantized Model: {ssim_quantized:.4f}\")\n"
   ]
  },
  {
   "cell_type": "markdown",
   "metadata": {},
   "source": [
    "### Calculating Spectral Angle\n",
    "\n",
    "This script implements a function to compute the Spectral Angle (SA), a metric used to assess the similarity between spectral signatures, which is especially important in hyperspectral imaging applications.\n",
    "\n",
    "- **Spectral Angle Calculation Function**:\n",
    "  - `calculate_spectral_angle`: This function calculates the average spectral angle between predictions made by a model and the original data samples.\n",
    "  - **Parameters**:\n",
    "    - `model`: The neural network model being evaluated.\n",
    "    - `dataloader`: A batched dataset for evaluation.\n",
    "    - `device`: The computation device (`'cpu'` or `'cuda'`), where the model and data are moved for processing.\n",
    "  - **Process**:\n",
    "    - Initializes a `SpectralAngle` metric instance.\n",
    "    - Iteratively processes batches from the dataloader, computing the SA for the model's predictions against the true data.\n",
    "    - Aggregates SA scores across all samples and computes an average SA across the dataset.\n",
    "\n",
    "- **Model Evaluation**:\n",
    "  - The function is utilized to measure the SA for both the original and quantized versions of the `SpectralSignalsCompressorNetwork` using the valid dataset.\n",
    "  - The evaluation checks how the spectral properties are preserved or altered in the quantized model compared to the original.\n",
    "\n",
    "- **Output**:\n",
    "  - The computed SA values for both models are printed, providing a numerical degree measure of spectral distortion introduced by model processing or compression.\n",
    "\n",
    "This functionality is critical for evaluating the impact of model modifications, like quantization, on the spectral fidelity of hyperspectral image data, informing decisions regarding model deployment in practical scenarios.\n"
   ]
  },
  {
   "cell_type": "code",
   "execution_count": 34,
   "metadata": {},
   "outputs": [
    {
     "name": "stderr",
     "output_type": "stream",
     "text": [
      "Calculating Spectral Angle: 100%|████████████████████████████████████████████████████████████████████████████| 306/306 [00:15<00:00, 20.23it/s]\n",
      "Calculating Spectral Angle: 100%|████████████████████████████████████████████████████████████████████████████| 306/306 [00:15<00:00, 19.93it/s]"
     ]
    },
    {
     "name": "stdout",
     "output_type": "stream",
     "text": [
      "Spectral Angle for Original Model: 1.9181 degrees\n",
      "Spectral Angle for Quantized Model: 3.5443 degrees\n"
     ]
    },
    {
     "name": "stderr",
     "output_type": "stream",
     "text": [
      "\n"
     ]
    }
   ],
   "source": [
    "@torch.no_grad()\n",
    "def calculate_spectral_angle(model, dataloader, device=\"cpu\"):\n",
    "    spectral_angle_metric = SpectralAngle()\n",
    "    total_sa = 0.0\n",
    "    num_samples = 0\n",
    "    \n",
    "    for xb, _ in tqdm(dataloader, desc=\"Calculating Spectral Angle\", leave=True):\n",
    "        xb = xb.to(device)\n",
    "        preds = model(xb)\n",
    "        sa = spectral_angle_metric(preds, xb)\n",
    "        total_sa += sa.item() * xb.size(0)\n",
    "        num_samples += xb.size(0)\n",
    "    \n",
    "    avg_sa = total_sa / num_samples\n",
    "    return avg_sa\n",
    "\n",
    "sa_original = calculate_spectral_angle(original_model, dls.valid, device=device)\n",
    "sa_quantized = calculate_spectral_angle(quantized_model, dls.valid, device=device)\n",
    "\n",
    "print(f\"Spectral Angle for Original Model: {sa_original:.4f} degrees\")\n",
    "print(f\"Spectral Angle for Quantized Model: {sa_quantized:.4f} degrees\")\n"
   ]
  },
  {
   "cell_type": "markdown",
   "metadata": {},
   "source": [
    "### Calculating Mean Squared Error (MSE)\n",
    "\n",
    "This script contains a function to compute the Mean Squared Error (MSE), a widely-used metric to measure the difference between predicted and actual values, particularly useful in evaluating the accuracy of models in regression and reconstruction tasks.\n",
    "\n",
    "- **MSE Calculation Function**:\n",
    "  - `calculate_mse_loss`: This function calculates the average MSE loss for a model over all samples in a given dataloader.\n",
    "  - **Parameters**:\n",
    "    - `model`: The neural network model to be evaluated.\n",
    "    - `dataloader`: The batched dataset for evaluation.\n",
    "    - `device`: The computation device (`'cpu'` or `'cuda'`), which determines where the computations are performed.\n",
    "  - **Process**:\n",
    "    - Initializes an instance of `MeanSquaredError`, a custom MSE metric class.\n",
    "    - Iterates over the dataloader, computing MSE for the predictions made by the model compared to the actual data in each batch.\n",
    "    - Aggregates these MSE values to compute an average MSE for the entire dataset.\n",
    "\n",
    "- **Model Evaluation**:\n",
    "  - The function is applied to both the original and quantized versions of a `SpectralSignalsCompressorNetwork`, calculating the MSE for each on the validation dataset.\n",
    "  - This measurement helps to assess how closely the models' outputs match the original data, with a particular focus on the impact of model quantization.\n",
    "\n",
    "- **Output**:\n",
    "  - The script prints the computed MSE values for both models. Lower MSE values indicate better model performance in terms of prediction accuracy and fidelity to the original data.\n",
    "\n",
    "This functionality is essential for quantitatively assessing model performance, especially after undergoing transformations like quantization, which can affect the precision of output in subtle ways.\n"
   ]
  },
  {
   "cell_type": "code",
   "execution_count": 38,
   "metadata": {},
   "outputs": [
    {
     "name": "stderr",
     "output_type": "stream",
     "text": [
      "Calculating MSE Loss: 100%|██████████████████████████████████████████████████████████████████████████████████| 306/306 [00:14<00:00, 20.74it/s]\n",
      "Calculating MSE Loss: 100%|██████████████████████████████████████████████████████████████████████████████████| 306/306 [00:14<00:00, 20.44it/s]"
     ]
    },
    {
     "name": "stdout",
     "output_type": "stream",
     "text": [
      "MSE Loss for Original Model: 0.000046\n",
      "MSE Loss for Quantized Model: 0.000249\n"
     ]
    },
    {
     "name": "stderr",
     "output_type": "stream",
     "text": [
      "\n"
     ]
    }
   ],
   "source": [
    "from metrics.mse import MeanSquaredError  # Import the custom MSE class\n",
    "from tqdm import tqdm\n",
    "import torch\n",
    "\n",
    "@torch.no_grad()\n",
    "def calculate_mse_loss(model, dataloader, device=\"cpu\"):\n",
    "    mse_metric = MeanSquaredError()  # Use the imported custom MSE metric\n",
    "    mse_metric.to(device)\n",
    "    total_mse_loss = 0.0\n",
    "    num_samples = 0\n",
    "\n",
    "    for xb, _ in tqdm(dataloader, desc=\"Calculating MSE Loss\", leave=True):\n",
    "        xb = xb.to(device)\n",
    "        preds = model(xb)\n",
    "        total_mse_loss += mse_metric(preds, xb).item() * xb.size(0)\n",
    "        num_samples += xb.size(0)\n",
    "\n",
    "    avg_mse_loss = total_mse_loss / num_samples\n",
    "    return avg_mse_loss\n",
    "\n",
    "# Calculate MSE for both models\n",
    "mse_original = calculate_mse_loss(original_model, dls.valid, device=device)\n",
    "mse_quantized = calculate_mse_loss(quantized_model, dls.valid, device=device)\n",
    "\n",
    "print(f\"MSE Loss for Original Model: {mse_original:.6f}\")\n",
    "print(f\"MSE Loss for Quantized Model: {mse_quantized:.6f}\")\n"
   ]
  },
  {
   "cell_type": "markdown",
   "metadata": {},
   "source": [
    "### Calculating Inference Time\n",
    "\n",
    "This script evaluates the inference time of neural network models, a key performance metric especially relevant for deployment scenarios where speed is critical.\n",
    "\n",
    "- **Inference Time Calculation Function**:\n",
    "  - `calculate_inference_time`: A function designed to measure the total time taken by a model to process all samples in a given dataloader.\n",
    "  - **Parameters**:\n",
    "    - `model`: The neural network model being evaluated.\n",
    "    - `dataloader`: The batched dataset used for inference.\n",
    "    - `device`: The computation device (`'cpu'` or `'cuda'`), indicating where the model processes the data.\n",
    "  - **Process**:\n",
    "    - Records the start time.\n",
    "    - Iterates over the dataloader, processing each batch of data on the specified device without calculating gradients (to purely measure inference speed).\n",
    "    - Calculates the total time elapsed from the start time after all batches are processed.\n",
    "\n",
    "- **Model Evaluation**:\n",
    "  - The function is applied to both the original and quantized versions of the `SpectralSignalsCompressorNetwork` using the validation dataset to measure how quickly each model can complete its inference tasks.\n",
    "  - This measurement is crucial for understanding the efficiency gains from model quantization.\n",
    "\n",
    "- **Output**:\n",
    "  - Prints the total inference time for both the original and quantized models. Comparisons of these times can illustrate the effects of quantization on model speed, with shorter times indicating more efficient performance.\n",
    "\n",
    "This metric is particularly useful for assessing model optimizations aimed at improving runtime efficiency, such as those introduced through model quantization or other compression techniques.\n"
   ]
  },
  {
   "cell_type": "code",
   "execution_count": 35,
   "metadata": {},
   "outputs": [
    {
     "name": "stderr",
     "output_type": "stream",
     "text": [
      "Calculating Inference Time: 100%|████████████████████████████████████████████████████████████████████████████| 306/306 [00:10<00:00, 29.39it/s]\n",
      "Calculating Inference Time: 100%|████████████████████████████████████████████████████████████████████████████| 306/306 [00:10<00:00, 29.31it/s]"
     ]
    },
    {
     "name": "stdout",
     "output_type": "stream",
     "text": [
      "Inference Time for Original Model: 10.42 seconds\n",
      "Inference Time for Quantized Model: 10.45 seconds\n"
     ]
    },
    {
     "name": "stderr",
     "output_type": "stream",
     "text": [
      "\n"
     ]
    }
   ],
   "source": [
    "@torch.no_grad()\n",
    "def calculate_inference_time(model, dataloader, device=\"cpu\"):\n",
    "    start_time = time.time()\n",
    "    \n",
    "    for xb, _ in tqdm(dataloader, desc=\"Calculating Inference Time\", leave=True):\n",
    "        xb = xb.to(device)\n",
    "        model(xb)\n",
    "    \n",
    "    total_time = time.time() - start_time\n",
    "    return total_time\n",
    "\n",
    "time_original = calculate_inference_time(original_model, dls.valid, device=device)\n",
    "time_quantized = calculate_inference_time(quantized_model, dls.valid, device=device)\n",
    "\n",
    "print(f\"Inference Time for Original Model: {time_original:.2f} seconds\")\n",
    "print(f\"Inference Time for Quantized Model: {time_quantized:.2f} seconds\")\n"
   ]
  },
  {
   "cell_type": "markdown",
   "metadata": {},
   "source": [
    "### Checking VRAM Usage\n",
    "\n",
    "This script includes a utility function to monitor VRAM (Video RAM) usage on systems with CUDA-enabled GPUs. It's particularly useful for evaluating the memory efficiency of neural network models, especially after loading or during computations.\n",
    "\n",
    "- **VRAM Usage Function**:\n",
    "  - `get_vram_usage`: This function calculates and reports the VRAM usage by the models.\n",
    "  - **Process**:\n",
    "    - Checks if CUDA is available on the system. If not, it returns a message indicating that CUDA is not available.\n",
    "    - If CUDA is available, it retrieves the amount of VRAM allocated and cached (reserved but not necessarily used) by PyTorch, converting these values from bytes to megabytes for readability.\n",
    "    - Returns a formatted string displaying the allocated and cached VRAM amounts.\n",
    "\n",
    "- **Output**:\n",
    "  - Upon calling the function after loading models, it prints the current VRAM usage, providing insights into the memory footprint of the models.\n",
    "  - This information is critical for understanding how much GPU memory the models occupy, which can inform decisions regarding model scaling, batch size adjustments, and deployment strategies.\n",
    "\n",
    "This functionality aids in optimizing model performance and resource management, ensuring that models do not exceed the memory limitations of the deployment environment.\n"
   ]
  },
  {
   "cell_type": "code",
   "execution_count": 39,
   "metadata": {},
   "outputs": [
    {
     "name": "stdout",
     "output_type": "stream",
     "text": [
      "VRAM Usage After Loading Models:\n",
      "Allocated VRAM: 113.07 MB, Cached VRAM: 910.00 MB\n"
     ]
    }
   ],
   "source": [
    "def get_vram_usage():\n",
    "    if torch.cuda.is_available():\n",
    "        allocated = torch.cuda.memory_allocated() / (1024 ** 2)\n",
    "        cached = torch.cuda.memory_reserved() / (1024 ** 2)\n",
    "        return f\"Allocated VRAM: {allocated:.2f} MB, Cached VRAM: {cached:.2f} MB\"\n",
    "    else:\n",
    "        return \"CUDA not available\"\n",
    "\n",
    "print(\"VRAM Usage After Loading Models:\")\n",
    "print(get_vram_usage())\n"
   ]
  },
  {
   "cell_type": "markdown",
   "metadata": {},
   "source": [
    "### Comparing Model File Sizes\n",
    "\n",
    "This script provides functionality to measure and compare the file sizes of neural network models, specifically focusing on the impact of quantization on storage efficiency.\n",
    "\n",
    "- **Utility Function `get_model_size`**:\n",
    "  - **Purpose**: Returns the size of a specified file in megabytes.\n",
    "  - **Parameters**:\n",
    "    - `file_path`: The path to the file whose size is to be determined.\n",
    "  - **Process**:\n",
    "    - Checks if the specified file exists. If not, raises a `FileNotFoundError`.\n",
    "    - If the file exists, retrieves the file size in bytes using `os.path.getsize` and converts it to megabytes.\n",
    "    - Returns the file size in MB.\n",
    "\n",
    "- **Model Size Calculation**:\n",
    "  - The function is used to get the sizes of both the original and quantized models from specified paths.\n",
    "  - Paths to the model files are defined as variables, and the sizes are retrieved by calling `get_model_size`.\n",
    "\n",
    "- **Compression Percentage**:\n",
    "  - Calculates the reduction in file size as a percentage, which represents the compression efficiency achieved by quantizing the original model.\n",
    "  - The formula used is: `((original_model_size - quantized_model_size) / original_model_size) * 100`\n",
    "\n",
    "- **Output**:\n",
    "  - Prints the sizes of the original and quantized models, as well as the calculated compression percentage.\n",
    "  - This information is crucial for understanding the benefits of model quantization in terms of storage space savings, which is important for deployment scenarios with limited storage resources.\n",
    "\n",
    "This functionality helps in assessing the effectiveness of model compression techniques and provides clear metrics for comparison between different versions of a model.\n"
   ]
  },
  {
   "cell_type": "code",
   "execution_count": 40,
   "metadata": {},
   "outputs": [
    {
     "name": "stdout",
     "output_type": "stream",
     "text": [
      "Original Model Size: 52.59 MB\n",
      "Quantized Model Size: 30.20 MB\n",
      "Compression Percentage: 42.58%\n"
     ]
    }
   ],
   "source": [
    "import os\n",
    "\n",
    "def get_model_size(file_path):\n",
    "    \"\"\"Returns the model size in MB.\"\"\"\n",
    "    if os.path.exists(file_path):\n",
    "        size_in_bytes = os.path.getsize(file_path)\n",
    "        size_in_mb = size_in_bytes / (1024 ** 2)  # Convert bytes to MB\n",
    "        return size_in_mb\n",
    "    else:\n",
    "        raise FileNotFoundError(f\"File not found: {file_path}\")\n",
    "\n",
    "# Paths to model files\n",
    "original_model_path = \"/root/HSI_HypSpecNet11k/hsi-compression/results/weights/sscnet_2point5bpppc.pth.tar\"\n",
    "quantized_model_path = \"/root/HSI_HypSpecNet11k/hsicomp/nbs/prsp30ep5lr5.pth\"\n",
    "\n",
    "# Get model sizes\n",
    "original_model_size = get_model_size(original_model_path)\n",
    "quantized_model_size = get_model_size(quantized_model_path)\n",
    "\n",
    "# Calculate compression percentage\n",
    "compression_percentage = ((original_model_size - quantized_model_size) / original_model_size) * 100\n",
    "\n",
    "# Print results\n",
    "print(f\"Original Model Size: {original_model_size:.2f} MB\")\n",
    "print(f\"Quantized Model Size: {quantized_model_size:.2f} MB\")\n",
    "print(f\"Compression Percentage: {compression_percentage:.2f}%\")\n"
   ]
  },
  {
   "cell_type": "markdown",
   "metadata": {},
   "source": [
    "### File Analysis for `.tif` and `.npy` Files\n",
    "\n",
    "This script is designed to extract and display key information from both `.tif` and `.npy` data files typically used in hyperspectral imaging and compression tasks.\n",
    "\n",
    "- **Imported Libraries**:\n",
    "  - `numpy`: Used for numerical operations and data type manipulations.\n",
    "  - `rasterio`: Utilized for reading and processing `.tif` files, which are often used to store raster data such as images.\n",
    "\n",
    "- **File Paths**:\n",
    "  - The paths for both the `.tif` and `.npy` files are specified, pointing to their respective locations in a dataset directory.\n",
    "\n",
    "- **.tif File Analysis**:\n",
    "  - **Process**:\n",
    "    - The `.tif` file is opened using `rasterio.open`, which provides access to raster data.\n",
    "    - The script retrieves the data type and dimensions of the image data, assuming uniformity across all bands.\n",
    "    - It calculates the bits per pixel per channel (bpppc) by determining the byte size of the data type and converting this to bits.\n",
    "  - **Outputs**:\n",
    "    - Prints the data type, dimensions, and bpppc specifically for the `.tif` file, providing insights into the file's structure and depth.\n",
    "\n",
    "- **.npy File Analysis**:\n",
    "  - **Process**:\n",
    "    - The `.npy` file is loaded using `numpy.load`, which reads arrays stored in NumPy's native format.\n",
    "    - Similar to the `.tif` analysis, the script extracts the data type and dimensions directly from the loaded array.\n",
    "    - It calculates bpppc by examining the item size of the array's data type.\n",
    "  - **Outputs**:\n",
    "    - Prints the data type, dimensions, and bpppc for the `.npy` file, offering a comparative look at how data is stored in this format versus the `.tif`.\n",
    "\n",
    "- **Error Handling**:\n",
    "  - Both sections of the script include exception handling to manage and report errors during file reading, ensuring robustness and user awareness of any issues encountered.\n",
    "\n",
    "### BPPPC Calculation\n",
    "\n",
    "**BPPPC**, or **Bits Per Pixel Per Channel**, measures the number of bits used to represent each pixel's color per channel in an image or data file. This metric is critical in evaluating the fidelity and quality of image compression algorithms. Higher bpppc generally means more information is retained, resulting in better image quality but also larger file sizes. Conversely, a lower bpppc can indicate lossy compression, where data is lost but file size is reduced. Understanding bpppc is vital for tasks that balance image quality against storage requirements, such as in streaming, archiving, or processing hyperspectral images.\n",
    "\n"
   ]
  },
  {
   "cell_type": "code",
   "execution_count": 11,
   "metadata": {},
   "outputs": [
    {
     "name": "stdout",
     "output_type": "stream",
     "text": [
      "For .tif file:\n",
      "Data Type: int16\n",
      "Dimensions (Channels, Height, Width): (224, 128, 128)\n",
      "bpppc: 16 bits per channel\n",
      "For .npy file:\n",
      "Data Type: float32\n",
      "Dimensions (Channels, Height, Width): (202, 128, 128)\n",
      "bpppc: 32 bits per channel\n"
     ]
    }
   ],
   "source": [
    "import numpy as np\n",
    "import rasterio\n",
    "\n",
    "# Paths to your files\n",
    "tif_file_path = \"/root/HSI_HypSpecNet11k/hsi-compression/datasets/hyspecnet-11k/patches/tile_001/tile_001-patch_01/ENMAP01-____L2A-DT0000004990_20221104T023111Z_010_V010110_20221118T144901Z-Y00440171_X03070434-SPECTRAL_IMAGE.TIF\"\n",
    "npy_file_path = \"/root/HSI_HypSpecNet11k/hsi-compression/datasets/hyspecnet-11k/patches/tile_001/tile_001-patch_01/ENMAP01-____L2A-DT0000004990_20221104T023111Z_010_V010110_20221118T144901Z-Y00440171_X03070434-DATA.npy\"\n",
    "\n",
    "# Analyze .tif file\n",
    "try:\n",
    "    with rasterio.open(tif_file_path) as tif:\n",
    "        # Dimensions and data types\n",
    "        data_type_tif = tif.dtypes[0]  # Assuming all bands have the same data type\n",
    "        dimensions_tif = (len(tif.indexes), tif.height, tif.width)\n",
    "        bpppc_tif = np.dtype(data_type_tif).itemsize * 8  # Convert size in bytes to bits\n",
    "        print(\"For .tif file:\")\n",
    "        print(f\"Data Type: {data_type_tif}\")\n",
    "        print(f\"Dimensions (Channels, Height, Width): {dimensions_tif}\")\n",
    "        print(f\"bpppc: {bpppc_tif} bits per channel\")\n",
    "except Exception as e:\n",
    "    print(f\"Error reading .tif file: {e}\")\n",
    "\n",
    "# Analyze .npy file\n",
    "try:\n",
    "    npy_data = np.load(npy_file_path)\n",
    "    data_type_npy = npy_data.dtype\n",
    "    dimensions_npy = npy_data.shape\n",
    "    bpppc_npy = npy_data.itemsize * 8  # Convert size in bytes to bits\n",
    "    print(\"For .npy file:\")\n",
    "    print(f\"Data Type: {data_type_npy}\")\n",
    "    print(f\"Dimensions (Channels, Height, Width): {dimensions_npy}\")\n",
    "    print(f\"bpppc: {bpppc_npy} bits per channel\")\n",
    "except Exception as e:\n",
    "    print(f\"Error reading .npy file: {e}\")\n"
   ]
  },
  {
   "cell_type": "code",
   "execution_count": 5,
   "metadata": {},
   "outputs": [
    {
     "data": {
      "text/plain": [
       "12.625"
      ]
     },
     "execution_count": 5,
     "metadata": {},
     "output_type": "execute_result"
    }
   ],
   "source": [
    "202*128*128*4/1024/1024"
   ]
  },
  {
   "cell_type": "code",
   "execution_count": null,
   "metadata": {},
   "outputs": [],
   "source": []
  },
  {
   "cell_type": "markdown",
   "metadata": {},
   "source": [
    "### Visual Comparison of Original vs. Pruned Models\n",
    "\n",
    "This script provides a comprehensive visualization of the differences in key performance metrics between the original and pruned versions of the Spectral Signals Compressor Network (SSCNet).\n",
    "\n",
    "- **Libraries and Setup**:\n",
    "  - Utilizes `matplotlib.pyplot` for plotting the data.\n",
    "  - The data for comparison includes categories for 'Original' and 'Pruned' models.\n",
    "\n",
    "- **Metrics Compared**:\n",
    "  - **Model Size**: Measures the storage size of each model in megabytes (MB).\n",
    "  - **VRAM Usage**: Indicates the amount of Video RAM (VRAM) used by each model in megabytes.\n",
    "  - **PSNR (Peak Signal-to-Noise Ratio)**: A quality metric that compares the similarity of the original and compressed (or pruned) images.\n",
    "  - **Spectral Angle**: Measures the angle between spectra, indicating the spectral similarity between the compared datasets.\n",
    "\n",
    "- **Plot Configuration**:\n",
    "  - The script creates a 2x2 grid of bar charts, each representing one of the metrics listed above.\n",
    "  - Each subplot is configured to display bars for both the original and pruned models, colored in blue and orange, respectively.\n",
    "  - Titles, labels, and axes limits are set appropriately for each metric to ensure clarity and effective communication of the data.\n",
    "\n",
    "- **Custom Functionality**:\n",
    "  - An auxiliary function, `add_values`, is used to annotate each bar with its respective value, enhancing the readability and impact of the visualization.\n",
    "\n",
    "- **Execution and Display**:\n",
    "  - The layout is adjusted to accommodate the subplot titles and overall figure title.\n",
    "  - The final visualization is displayed, providing a clear and immediate comparison between the original and pruned models across different performance indicators.\n",
    "\n"
   ]
  },
  {
   "cell_type": "code",
   "execution_count": 46,
   "metadata": {},
   "outputs": [
    {
     "data": {
      "image/png": "[encoded data removed]",
      "text/plain": [
       "<Figure size 1200x800 with 4 Axes>"
      ]
     },
     "metadata": {},
     "output_type": "display_data"
    }
   ],
   "source": [
    "# Updated data without MSE Loss and SSIM, replacing \"Quantized\" with \"Pruned\"\n",
    "categories = ['Original', 'Pruned']\n",
    "model_size = [52.59, 30.20]  # in MB\n",
    "vram_usage = [910.00, 113.07]  # in MB\n",
    "psnr = [43.37, 36.09]  # in dB\n",
    "spectral_angle = [1.9181, 3.5443]  # in degrees\n",
    "inference_time = [10.42, 10.45]  # in seconds\n",
    "\n",
    "# Create subplots for the updated metrics\n",
    "fig, axs = plt.subplots(2, 2, figsize=(12, 8))\n",
    "fig.suptitle(\n",
    "    'Comparison of Spectral Signals Compressor Network (SSCNet)\\n Original and Pruned Models',\n",
    "    fontsize=16,\n",
    "    fontweight='bold'\n",
    ")\n",
    "\n",
    "# Model Size\n",
    "axs[0, 0].bar(categories, model_size, color=['blue', 'orange'])\n",
    "axs[0, 0].set_title('Model Size (MB)')\n",
    "axs[0, 0].set_ylabel('Size (MB)')\n",
    "axs[0, 0].set_ylim(0, max(model_size) * 1.2)\n",
    "add_values(axs[0, 0], model_size)\n",
    "\n",
    "# VRAM Usage\n",
    "axs[0, 1].bar(categories, vram_usage, color=['blue', 'orange'])\n",
    "axs[0, 1].set_title('VRAM Usage (MB)')\n",
    "axs[0, 1].set_ylabel('VRAM (MB)')\n",
    "axs[0, 1].set_ylim(0, max(vram_usage) * 1.2)\n",
    "add_values(axs[0, 1], vram_usage)\n",
    "\n",
    "# PSNR\n",
    "axs[1, 0].bar(categories, psnr, color=['blue', 'orange'])\n",
    "axs[1, 0].set_title('PSNR (dB)')\n",
    "axs[1, 0].set_ylabel('PSNR (dB)')\n",
    "axs[1, 0].set_ylim(0, max(psnr) * 1.2)\n",
    "add_values(axs[1, 0], psnr)\n",
    "\n",
    "# Spectral Angle\n",
    "axs[1, 1].bar(categories, spectral_angle, color=['blue', 'orange'])\n",
    "axs[1, 1].set_title('Spectral Angle (Degrees)')\n",
    "axs[1, 1].set_ylabel('Angle (Degrees)')\n",
    "axs[1, 1].set_ylim(0, max(spectral_angle) * 1.2)\n",
    "add_values(axs[1, 1], spectral_angle)\n",
    "\n",
    "# Adjust layout and display\n",
    "plt.tight_layout(rect=[0, 0, 1, 0.96])\n",
    "plt.show()\n"
   ]
  },
  {
   "cell_type": "markdown",
   "metadata": {},
   "source": [
    "## Experimental Results\n",
    "\n",
    "### Peak Signal-to-Noise Ratio (PSNR)\n",
    "The pruned SSCNet achieved a PSNR of 36.09 dB, demonstrating strong reconstruction fidelity.\n",
    "\n",
    "### Spectral Angle (SA)\n",
    "The pruned model maintained a low Spectral Angle deviation of 3.54°, indicating minimal distortion in spectral data.\n",
    "\n",
    "### Structural Similarity Index (SSIM)\n",
    "Achieved an SSIM of 0.9119, confirming preservation of spatial structures.\n",
    "\n",
    "## Model Efficiency\n",
    "\n",
    "### Model Compression\n",
    "The pruning process reduced the model size from 52.59 MB to 30.20 MB (a 42.6% reduction) and the number of parameters from 13,783,242 to 7,911,383 (a 42.6% reduction). This highlights the significant decrease in computational overhead and storage requirements.\n",
    "\n",
    "### VRAM Usage\n",
    "The pruned model drastically reduced VRAM consumption from 910.00 MB to 113.07 MB, making it highly efficient for deployment on devices with limited GPU resources.\n",
    "\n",
    "## Comparative Analysis\n",
    "\n",
    "### Performance Superiority\n",
    "The pruned SSCNet outperformed traditional and learning-based compression methods in terms of computational efficiency and memory usage, while maintaining competitive reconstruction quality.\n",
    "\n",
    "### Preservation of Fidelity\n",
    "Despite pruning, the model retained high-quality reconstructions with:\n",
    "- **PSNR**: ensuring strong pixel-level accuracy.\n",
    "- **SSIM**: confirming minimal degradation in structural similarity.\n",
    "- **Low spectral angle deviation**: validating accurate spectral information preservation.\n"
   ]
  },
  {
   "cell_type": "code",
   "execution_count": null,
   "metadata": {},
   "outputs": [],
   "source": []
  },
  {
   "cell_type": "code",
   "execution_count": null,
   "metadata": {},
   "outputs": [],
   "source": []
  },
  {
   "cell_type": "code",
   "execution_count": null,
   "metadata": {},
   "outputs": [],
   "source": []
  },
  {
   "cell_type": "code",
   "execution_count": null,
   "metadata": {},
   "outputs": [],
   "source": []
  },
  {
   "cell_type": "code",
   "execution_count": null,
   "metadata": {},
   "outputs": [],
   "source": []
  },
  {
   "cell_type": "code",
   "execution_count": null,
   "metadata": {},
   "outputs": [],
   "source": [
    "#| export\n",
    "def foo(): pass"
   ]
  },
  {
   "cell_type": "code",
   "execution_count": null,
   "metadata": {},
   "outputs": [],
   "source": [
    "#| hide\n",
    "import nbdev; nbdev.nbdev_export()"
   ]
  },
  {
   "cell_type": "code",
   "execution_count": null,
   "metadata": {},
   "outputs": [],
   "source": []
  }
 ],
 "metadata": {
  "kernelspec": {
   "display_name": "Python 3 (ipykernel)",
   "language": "python",
   "name": "python3"
  },
  "language_info": {
   "codemirror_mode": {
    "name": "ipython",
    "version": 3
   },
   "file_extension": ".py",
   "mimetype": "text/x-python",
   "name": "python",
   "nbconvert_exporter": "python",
   "pygments_lexer": "ipython3",
   "version": "3.12.7"
  }
 },
 "nbformat": 4,
 "nbformat_minor": 4
}
