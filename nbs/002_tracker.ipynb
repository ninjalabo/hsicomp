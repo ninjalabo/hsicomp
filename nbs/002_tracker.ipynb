{
 "cells": [
  {
   "cell_type": "markdown",
   "id": "b6d140c2-2212-42cb-b3bb-61bd856076f3",
   "metadata": {},
   "source": [
    "# Hyperspectral Object Tracking Challenge 2024 [2]\n",
    "> The following is a set of baseline results from different methods. These results were obtained without using the training set. Only the first frame of the each testing sequence was used to estimate key parameters if needed. Please refer to [1] for details. Please refer to the contest page for related codes. https://www.hsitracking.com/result/"
   ]
  },
  {
   "cell_type": "code",
   "execution_count": null,
   "id": "b0d76d1b-d004-493f-a93d-831e47cfafa7",
   "metadata": {},
   "outputs": [],
   "source": []
  }
 ],
 "metadata": {
  "kernelspec": {
   "display_name": "python3",
   "language": "python",
   "name": "python3"
  }
 },
 "nbformat": 4,
 "nbformat_minor": 5
}
