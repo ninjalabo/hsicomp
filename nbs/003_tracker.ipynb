{
 "cells": [
  {
   "cell_type": "markdown",
   "id": "ddda9785-0002-47c4-ab61-e662be8feb67",
   "metadata": {},
   "source": [
    "# Hyperspectral Object Tracking Challenge 2024 [3]\n",
    "> The following is a set of baseline results from different methods. These results were obtained without using the training set. Only the first frame of the each testing sequence was used to estimate key parameters if needed. Please refer to [1] for details. Please refer to the contest page for related codes. https://www.hsitracking.com/result/"
   ]
  },
  {
   "cell_type": "code",
   "execution_count": null,
   "id": "99c3c7b6-ae66-4027-ade2-778c7acbc760",
   "metadata": {},
   "outputs": [],
   "source": []
  }
 ],
 "metadata": {
  "kernelspec": {
   "display_name": "python3",
   "language": "python",
   "name": "python3"
  }
 },
 "nbformat": 4,
 "nbformat_minor": 5
}
