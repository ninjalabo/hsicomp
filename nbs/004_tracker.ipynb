{
 "cells": [
  {
   "cell_type": "markdown",
   "id": "2d148f66-1c67-42a6-b95c-8fba3b1bb1c9",
   "metadata": {},
   "source": [
    "# Hyperspectral Object Tracking Challenge 2024 [4]\n",
    "> The following is a set of baseline results from different methods. These results were obtained without using the training set. Only the first frame of the each testing sequence was used to estimate key parameters if needed. Please refer to [1] for details. Please refer to the contest page for related codes. https://www.hsitracking.com/result/"
   ]
  },
  {
   "cell_type": "code",
   "execution_count": null,
   "id": "36425233-1ccb-4951-97f6-b2eebcc8d07c",
   "metadata": {},
   "outputs": [],
   "source": []
  }
 ],
 "metadata": {
  "kernelspec": {
   "display_name": "python3",
   "language": "python",
   "name": "python3"
  }
 },
 "nbformat": 4,
 "nbformat_minor": 5
}
