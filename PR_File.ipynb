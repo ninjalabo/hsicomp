{
 "cells": [
  {
   "cell_type": "markdown",
   "id": "597c022e-32e9-4c40-8b0b-a0b577b26291",
   "metadata": {},
   "source": [
    "## Daily Work Flow Tracker"
   ]
  },
  {
   "cell_type": "raw",
   "id": "31db5999-24b8-45e6-b92b-f8ca85ff1339",
   "metadata": {},
   "source": [
    "1. setup the jupyter system in the virtual machine \n",
    "     a. set-up the virtual machine, run the below command in any terminal ( prefer gitbash)\n",
    "        ssh root@VM_IP.Address\n",
    "        enter your ssh credentials \n",
    "     b. In your virtual machine terminal run the below command\n",
    "        ssh -i ~/.ssh/public_key(enter your ssh public key id)  -L 7777:localhost:8888 root@VM_IP_address\n",
    "        jupyter notebook --no-browser --port=8888 --ip=0.0.0.0 --allow-root\n",
    "     c. Open browser and type localhost:7777 ( which is passed earlier during initialization)"
   ]
  },
  {
   "cell_type": "raw",
   "id": "b318233e-cc32-4bdd-af39-b30cf839f47c",
   "metadata": {},
   "source": [
    "2. make directory for the project either directly from the jupyter notebook \n",
    "    or through terminal as cd path/where/main folder / to be located.. then\n",
    "    mkdir ~/NameOfDirectory"
   ]
  },
  {
   "cell_type": "raw",
   "id": "b61ed971-49a7-4a9f-8df2-2466f8ff20fa",
   "metadata": {},
   "source": [
    "3. clone the git repository of the project in the working directory\n",
    "    git clone https://git.tu-berlin.de/rsim/hsi-compression.git"
   ]
  },
  {
   "cell_type": "raw",
   "id": "4cb811ee-de91-416d-964e-ea90704c4182",
   "metadata": {},
   "source": [
    "4. Building the datasets for the project\n",
    "    a. If the datasets are in local device then transfer it to virtual machine working directory using scp \n",
    "        $ scp -r path to/transfering/local directory root@VM_IP_Address:~/project/working directory/dataset\n",
    "    b. fetching the dataset directly from the website if permission is granted\n",
    "        # Step 1: Download the dataset\n",
    "        wget -O dataset.zip https:link\n",
    "\n",
    "        # Step 2: Extract the contents of the downloaded file\n",
    "        unzip dataset.zip -d /path/to/extract/"
   ]
  },
  {
   "cell_type": "code",
   "execution_count": null,
   "id": "b41db5ae-cc9a-4321-84a8-b3b76ee1ba16",
   "metadata": {},
   "outputs": [],
   "source": []
  }
 ],
 "metadata": {
  "kernelspec": {
   "display_name": "Python 3 (ipykernel)",
   "language": "python",
   "name": "python3"
  },
  "language_info": {
   "codemirror_mode": {
    "name": "ipython",
    "version": 3
   },
   "file_extension": ".py",
   "mimetype": "text/x-python",
   "name": "python",
   "nbconvert_exporter": "python",
   "pygments_lexer": "ipython3",
   "version": "3.12.7"
  }
 },
 "nbformat": 4,
 "nbformat_minor": 5
}
